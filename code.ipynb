{
 "cells": [
  {
   "cell_type": "markdown",
   "metadata": {},
   "source": [
    "# A Bayesian Network for Stem Cell Differentiation Tutorial"
   ]
  },
  {
   "cell_type": "markdown",
   "metadata": {},
   "source": [
    "A Bayesian Network is a graphical way of representing probabilistic dependencies\n",
    "between variables in a system, and is a way to hypothesize causal relations between observable\n",
    "variables and the behavior of the system. In this project you will use a Bayesian Network to model how\n",
    "protein expression influences the differentiation of induced Pluripotent Stem Cells (iPSCs). iPSCs are\n",
    "similar to embryonic stem (ES) cells in that they are pluripotent (can differentiate into hundreds of\n",
    "different cell types), but in contrast to ES cells, pluripotent stem cells are artificially derived from a nonpluripotent\n",
    "adult cell, and therefore have possible immunological and ethical advantages compared to\n",
    "ES cells. In an important advance in regenerative medicine, iPSCs were first produced in 2006 from\n",
    "mouse cells and in 2007 from human cells in a series of experiments in Yamanaka’s lab at Kyoto\n",
    "University. "
   ]
  },
  {
   "cell_type": "code",
   "execution_count": 1,
   "metadata": {
    "collapsed": false
   },
   "outputs": [],
   "source": [
    "# Dependencies\n",
    "import math\n",
    "from itertools import *\n",
    "from operator import itemgetter"
   ]
  },
  {
   "cell_type": "code",
   "execution_count": 2,
   "metadata": {
    "collapsed": false
   },
   "outputs": [],
   "source": [
    "# Returns a generator for the power set\n",
    "def powerset(iterable):\n",
    "    s = list(iterable)\n",
    "    return chain.from_iterable(combinations(s, r) for r in range(len(s)+1))"
   ]
  },
  {
   "cell_type": "code",
   "execution_count": 3,
   "metadata": {
    "collapsed": true
   },
   "outputs": [],
   "source": [
    "# a fast approximation for factorials of very large n's\n",
    "def stirling_approx(n):\n",
    "    return (n+.5)*math.log(n,2)-n+.5*math.log(2*math.pi,2)"
   ]
  },
  {
   "cell_type": "code",
   "execution_count": 4,
   "metadata": {
    "collapsed": false
   },
   "outputs": [
    {
     "data": {
      "text/plain": [
       "[[0, 0, 0],\n",
       " [1, 0, 0],\n",
       " [0, 1, 0],\n",
       " [1, 1, 0],\n",
       " [0, 0, 1],\n",
       " [1, 0, 1],\n",
       " [0, 1, 1],\n",
       " [1, 1, 1]]"
      ]
     },
     "execution_count": 4,
     "metadata": {},
     "output_type": "execute_result"
    }
   ],
   "source": [
    "# Returns a binary state table\n",
    "def getBinaryStateTable(size, alphabet = [0,1]):\n",
    "    if size == 1:\n",
    "        return [[character] for character in alphabet]\n",
    "        \n",
    "    statetable_prev = getBinaryStateTable(size - 1)\n",
    "    statetable_curr = [unfinished_state + [character] for character in alphabet for unfinished_state in statetable_prev]\n",
    "    return statetable_curr\n",
    "\n",
    "# Test\n",
    "getBinaryStateTable(3)"
   ]
  },
  {
   "cell_type": "code",
   "execution_count": 5,
   "metadata": {
    "collapsed": false
   },
   "outputs": [],
   "source": [
    "# Calculates the log likelihood\n",
    "def log2P(statetable_dict):\n",
    "    total = 0\n",
    "    \n",
    "    for key in statetable_dict.keys():\n",
    "        outcomes = statetable_dict[key][0]\n",
    "        num = 0; denom = 0; partial_sum = 0\n",
    "        \n",
    "        if (max(outcomes) > 50):\n",
    "            num = sum([stirling_approx(o) for o in outcomes])\n",
    "            denom = stirling_approx(sum(outcomes))\n",
    "            partial_sum = num - denom\n",
    "        else:\n",
    "            num = reduce(lambda x,y:x*y, [math.factorial(o) for o in outcomes])\n",
    "            denom = float(math.factorial(sum(outcomes)))\n",
    "            partial_sum = math.log(num/denom, 2)\n",
    "        total += partial_sum\n",
    "    \n",
    "    return total-math.log(len(statetable_dict.keys()), 2)*55"
   ]
  },
  {
   "cell_type": "code",
   "execution_count": 6,
   "metadata": {
    "collapsed": false
   },
   "outputs": [],
   "source": [
    "# Creates a bayesian network\n",
    "# Inputs:\n",
    "# - features_list: a list of samples, with columns 0-5 representing features, and column 6 = cell state \n",
    "# - desired_features_index: which indices to choose from the features_list as features\n",
    "# - total # of cell states there are\n",
    "def bayesian_network(features_list, desired_features_index, sample_outcomes):    \n",
    "    statetable = [tuple(state) for state in getBinaryStateTable(len(desired_features_index))]\n",
    "    statetable_dict = {}\n",
    "    for state in statetable:\n",
    "        statetable_dict[state] = [[0]*len(sample_outcomes), [0]*len(sample_outcomes)]\n",
    "    \n",
    "    # Counts the total number of samples of being in a given cell state for each feature state\n",
    "    for sample in features_list:\n",
    "        state_sample = tuple([sample[i] for i in desired_features_index])\n",
    "        N = sample[6] # cell state\n",
    "        statetable_dict[state_sample][0][N] += 1;\n",
    "    \n",
    "    # Calculates the probabilities\n",
    "    for key in statetable_dict.keys():\n",
    "        tot = float(sum(statetable_dict[key][0]))\n",
    "        for i in range(len(sample_outcomes)):\n",
    "            statetable_dict[key][1][i] = statetable_dict[key][0][i]/tot\n",
    "    \n",
    "    # calculates the loglikelihood\n",
    "    loglikelihood = log2P(statetable_dict)\n",
    "    \n",
    "    return desired_features_index, loglikelihood, statetable_dict"
   ]
  },
  {
   "cell_type": "code",
   "execution_count": 7,
   "metadata": {
    "collapsed": false
   },
   "outputs": [],
   "source": [
    "# creates a list of all possible bayesian models from a matrix of features\n",
    "# In this assignment, there are 6 features, so 2^6-1 possible models to create\n",
    "# sorts the list of models by the highest likelihood\n",
    "def exhaustive_model_search(features_list, parameters):\n",
    "    allmodels = list(powerset(parameters))\n",
    "    bayesian_models = []\n",
    "    for model in allmodels:\n",
    "        if list(model) != []:\n",
    "            bayesian_models.append(bayesian_network(features_list, list(model), [0,1]))\n",
    "    return sorted(bayesian_models, key=lambda x: x[1], reverse=True)"
   ]
  },
  {
   "cell_type": "code",
   "execution_count": 9,
   "metadata": {
    "collapsed": false
   },
   "outputs": [],
   "source": [
    "# Obtains all possible bayesian models from ipsc1.dat\n",
    "# 0 - OCT4\n",
    "# 1 - SOX2\n",
    "# 2 - REX1\n",
    "# 3-5 - Not given, but end up being the least important variables\n",
    "# 6 - Cell state. (N=0\n",
    "iPSC1 = open(\"ipsc1.dat\", \"r\")\n",
    "iPSC1_list = iPSC1.readlines()\n",
    "iPSC1_list = [map(int, line.rstrip().split(\" \")) for line in iPSC1_list]\n",
    "bayesian_models = exhaustive_model_search(iPSC1_list, [0,1,2,3,4,5])"
   ]
  },
  {
   "cell_type": "code",
   "execution_count": 10,
   "metadata": {
    "collapsed": false
   },
   "outputs": [
    {
     "name": "stdout",
     "output_type": "stream",
     "text": [
      "All Possible Bayesian Models in order of Loglikelihood\n",
      "Model: [0, 1, 2] \n",
      "Loglikelihood: -1269.16007054 \n",
      "\n",
      "Model: [0, 1, 2, 3, 4, 5] \n",
      "Loglikelihood: -1281.07097343 \n",
      "\n",
      "Model: [0, 1, 2, 3] \n",
      "Loglikelihood: -1292.32280551 \n",
      "\n",
      "Model: [0, 1, 2, 4] \n",
      "Loglikelihood: -1295.13344659 \n",
      "\n",
      "Model: [0, 1, 2, 5] \n",
      "Loglikelihood: -1297.60423827 \n",
      "\n",
      "Model: [0, 1, 2, 3, 4] \n",
      "Loglikelihood: -1299.08266678 \n",
      "\n",
      "Model: [0, 1, 2, 3, 5] \n",
      "Loglikelihood: -1303.15706101 \n",
      "\n",
      "Model: [0, 1, 2, 4, 5] \n",
      "Loglikelihood: -1306.22691026 \n",
      "\n",
      "Model: [0, 1] \n",
      "Loglikelihood: -1317.74494217 \n",
      "\n",
      "Model: [0, 2] \n",
      "Loglikelihood: -1332.14024948 \n",
      "\n",
      "Model: [0, 1, 3] \n",
      "Loglikelihood: -1351.91880982 \n",
      "\n",
      "Model: [0, 1, 4] \n",
      "Loglikelihood: -1354.54992623 \n",
      "\n",
      "Model: [0, 1, 5] \n",
      "Loglikelihood: -1356.62437134 \n",
      "\n",
      "Model: [0, 2, 3] \n",
      "Loglikelihood: -1368.47109338 \n",
      "\n",
      "Model: [0, 2, 4] \n",
      "Loglikelihood: -1369.58040741 \n",
      "\n",
      "Model: [0, 2, 5] \n",
      "Loglikelihood: -1370.77250079 \n",
      "\n",
      "Model: [0] \n",
      "Loglikelihood: -1373.52167752 \n",
      "\n",
      "Model: [0, 1, 3, 4] \n",
      "Loglikelihood: -1375.51142674 \n",
      "\n",
      "Model: [0, 1, 3, 5] \n",
      "Loglikelihood: -1379.23093194 \n",
      "\n",
      "Model: [0, 1, 4, 5] \n",
      "Loglikelihood: -1381.69594511 \n",
      "\n",
      "Model: [0, 1, 3, 4, 5] \n",
      "Loglikelihood: -1382.60492639 \n",
      "\n",
      "Model: [0, 2, 3, 4] \n",
      "Loglikelihood: -1393.11649559 \n",
      "\n",
      "Model: [0, 2, 3, 5] \n",
      "Loglikelihood: -1395.20314496 \n",
      "\n",
      "Model: [0, 2, 4, 5] \n",
      "Loglikelihood: -1397.77594117 \n",
      "\n",
      "Model: [0, 2, 3, 4, 5] \n",
      "Loglikelihood: -1399.86911249 \n",
      "\n",
      "Model: [0, 4] \n",
      "Loglikelihood: -1417.1305888 \n",
      "\n",
      "Model: [0, 3] \n",
      "Loglikelihood: -1417.56230756 \n",
      "\n",
      "Model: [0, 5] \n",
      "Loglikelihood: -1418.76320111 \n",
      "\n",
      "Model: [0, 3, 4] \n",
      "Loglikelihood: -1453.45494154 \n",
      "\n",
      "Model: [0, 3, 5] \n",
      "Loglikelihood: -1454.46241335 \n",
      "\n",
      "Model: [0, 4, 5] \n",
      "Loglikelihood: -1456.02090676 \n",
      "\n",
      "Model: [0, 3, 4, 5] \n",
      "Loglikelihood: -1476.78807764 \n",
      "\n",
      "Model: [1] \n",
      "Loglikelihood: -1531.0998921 \n",
      "\n",
      "Model: [1, 2] \n",
      "Loglikelihood: -1540.27305027 \n",
      "\n",
      "Model: [2] \n",
      "Loglikelihood: -1543.92915654 \n",
      "\n",
      "Model: [1, 3] \n",
      "Loglikelihood: -1574.28019574 \n",
      "\n",
      "Model: [1, 2, 3] \n",
      "Loglikelihood: -1574.64284976 \n",
      "\n",
      "Model: [1, 4] \n",
      "Loglikelihood: -1575.92795848 \n",
      "\n",
      "Model: [1, 5] \n",
      "Loglikelihood: -1576.10284519 \n",
      "\n",
      "Model: [1, 2, 4] \n",
      "Loglikelihood: -1576.95858498 \n",
      "\n",
      "Model: [3] \n",
      "Loglikelihood: -1578.24844452 \n",
      "\n",
      "Model: [1, 2, 5] \n",
      "Loglikelihood: -1578.25332424 \n",
      "\n",
      "Model: [5] \n",
      "Loglikelihood: -1578.33176326 \n",
      "\n",
      "Model: [4] \n",
      "Loglikelihood: -1578.64247244 \n",
      "\n",
      "Model: [2, 3] \n",
      "Loglikelihood: -1588.40877676 \n",
      "\n",
      "Model: [2, 5] \n",
      "Loglikelihood: -1588.72988281 \n",
      "\n",
      "Model: [2, 4] \n",
      "Loglikelihood: -1589.76017894 \n",
      "\n",
      "Model: [1, 2, 3, 4] \n",
      "Loglikelihood: -1596.44454806 \n",
      "\n",
      "Model: [1, 2, 3, 5] \n",
      "Loglikelihood: -1601.08630464 \n",
      "\n",
      "Model: [1, 2, 4, 5] \n",
      "Loglikelihood: -1604.07969646 \n",
      "\n",
      "Model: [1, 2, 3, 4, 5] \n",
      "Loglikelihood: -1605.76700631 \n",
      "\n",
      "Model: [1, 3, 4] \n",
      "Loglikelihood: -1612.37453648 \n",
      "\n",
      "Model: [1, 3, 5] \n",
      "Loglikelihood: -1612.39946106 \n",
      "\n",
      "Model: [1, 4, 5] \n",
      "Loglikelihood: -1614.24103229 \n",
      "\n",
      "Model: [3, 5] \n",
      "Loglikelihood: -1623.1475617 \n",
      "\n",
      "Model: [4, 5] \n",
      "Loglikelihood: -1624.06766555 \n",
      "\n",
      "Model: [3, 4] \n",
      "Loglikelihood: -1624.16998001 \n",
      "\n",
      "Model: [2, 3, 4] \n",
      "Loglikelihood: -1625.74884547 \n",
      "\n",
      "Model: [2, 3, 5] \n",
      "Loglikelihood: -1626.21289778 \n",
      "\n",
      "Model: [2, 4, 5] \n",
      "Loglikelihood: -1628.05301372 \n",
      "\n",
      "Model: [1, 3, 4, 5] \n",
      "Loglikelihood: -1639.33244572 \n",
      "\n",
      "Model: [2, 3, 4, 5] \n",
      "Loglikelihood: -1652.78189562 \n",
      "\n",
      "Model: [3, 4, 5] \n",
      "Loglikelihood: -1662.64142448 \n",
      "\n"
     ]
    }
   ],
   "source": [
    "# Prints all the models\n",
    "print(\"All Possible Bayesian Models in order of Loglikelihood\")\n",
    "for model in bayesian_models:\n",
    "    print \"Model:\", model[0], \"\\nLoglikelihood:\", model[1], \"\\n\""
   ]
  },
  {
   "cell_type": "code",
   "execution_count": 30,
   "metadata": {
    "collapsed": false
   },
   "outputs": [
    {
     "name": "stdout",
     "output_type": "stream",
     "text": [
      "((1, 1, 0), [[192, 16], [0.9230769230769231, 0.07692307692307693]])\n",
      "((0, 1, 1), [[14, 149], [0.08588957055214724, 0.9141104294478528]])\n",
      "((1, 0, 0), [[109, 90], [0.5477386934673367, 0.45226130653266333]])\n",
      "((0, 0, 1), [[20, 155], [0.11428571428571428, 0.8857142857142857]])\n",
      "((1, 0, 1), [[98, 96], [0.5051546391752577, 0.4948453608247423]])\n",
      "((0, 0, 0), [[89, 109], [0.4494949494949495, 0.5505050505050505]])\n",
      "((0, 1, 0), [[88, 99], [0.47058823529411764, 0.5294117647058824]])\n",
      "((1, 1, 1), [[184, 28], [0.8679245283018868, 0.1320754716981132]])\n"
     ]
    }
   ],
   "source": [
    "# The best model\n",
    "best_model = bayesian_models[0][2]\n",
    "for row in best_model.iteritems():\n",
    "    print row"
   ]
  }
 ],
 "metadata": {
  "kernelspec": {
   "display_name": "Python 2",
   "language": "python",
   "name": "python2"
  },
  "language_info": {
   "codemirror_mode": {
    "name": "ipython",
    "version": 2
   },
   "file_extension": ".py",
   "mimetype": "text/x-python",
   "name": "python",
   "nbconvert_exporter": "python",
   "pygments_lexer": "ipython2",
   "version": "2.7.11"
  }
 },
 "nbformat": 4,
 "nbformat_minor": 0
}
