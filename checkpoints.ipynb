{
 "cells": [
  {
   "cell_type": "code",
   "execution_count": 1,
   "metadata": {
    "collapsed": true
   },
   "outputs": [],
   "source": [
    "import math"
   ]
  },
  {
   "cell_type": "code",
   "execution_count": 2,
   "metadata": {
    "collapsed": true
   },
   "outputs": [],
   "source": [
    "def stirling_approx(n):\n",
    "    return (n+.5)*math.log(n,2)-n+.5*math.log(2*math.pi,2)"
   ]
  },
  {
   "cell_type": "code",
   "execution_count": 6,
   "metadata": {
    "collapsed": false
   },
   "outputs": [
    {
     "data": {
      "text/plain": [
       "[[12, 3, 4], 'string']"
      ]
     },
     "execution_count": 6,
     "metadata": {},
     "output_type": "execute_result"
    }
   ],
   "source": [
    "def one_node_network(features):\n",
    "    n_features = len(features[0]-1)\n",
    "    \n",
    "    state_outcomes = [0,1]\n",
    "    \n",
    "    for Xn in range(n_features):\n",
    "        for s_outcome in state_outcomes:\n",
    "            count(features, s_outcome, Xn)\n",
    "            "
   ]
  },
  {
   "cell_type": "code",
   "execution_count": null,
   "metadata": {
    "collapsed": true
   },
   "outputs": [],
   "source": [
    "def count(features, state_features, state_outcomes):\n",
    "    np_j = []*len(state_outcomes)\n",
    "    for sample in features:\n",
    "        N = features[6]\n",
    "        np_j[N]++;\n",
    "        "
   ]
  },
  {
   "cell_type": "code",
   "execution_count": 17,
   "metadata": {
    "collapsed": false
   },
   "outputs": [],
   "source": [
    "def main():\n",
    "    iPSC1 = open(\"ipsc1.dat\", \"r\")\n",
    "    iPSC1_list = iPSC1.readlines()\n",
    "    iPSC1_list = [map(int, line.rstrip().split(\" \")) for line in iPSC1_list]\n",
    "main()"
   ]
  },
  {
   "cell_type": "code",
   "execution_count": null,
   "metadata": {
    "collapsed": true
   },
   "outputs": [],
   "source": []
  },
  {
   "cell_type": "code",
   "execution_count": 19,
   "metadata": {
    "collapsed": false
   },
   "outputs": [
    {
     "data": {
      "text/plain": [
       "[0, 0, 0, 1, 0, 0, 1]"
      ]
     },
     "execution_count": 19,
     "metadata": {},
     "output_type": "execute_result"
    }
   ],
   "source": [
    "iPSC1_list[1]"
   ]
  },
  {
   "cell_type": "code",
   "execution_count": 104,
   "metadata": {
    "collapsed": false
   },
   "outputs": [],
   "source": [
    "def getBinaryStateTable(size, alphabet = [0,1]):\n",
    "    if size == 1:\n",
    "        return [[character] for character in alphabet]\n",
    "        \n",
    "    statetable_prev = getStateTable(alphabet, size - 1)\n",
    "    statetable_curr = [unfinished_state + [character] for character in alphabet for unfinished_state in statetable_prev]\n",
    "    return statetable_curr"
   ]
  },
  {
   "cell_type": "code",
   "execution_count": 110,
   "metadata": {
    "collapsed": false
   },
   "outputs": [
    {
     "data": {
      "text/plain": [
       "{(0,): None, (1,): None}"
      ]
     },
     "execution_count": 110,
     "metadata": {},
     "output_type": "execute_result"
    }
   ],
   "source": [
    "statetable = [tuple(state) for state in getBinaryStateTable(1)]\n",
    "statetable_dict = {}\n",
    "for state in statetable:\n",
    "    statetable_dict[state] = None\n",
    "statetable_dict"
   ]
  },
  {
   "cell_type": "code",
   "execution_count": null,
   "metadata": {
    "collapsed": true
   },
   "outputs": [],
   "source": []
  }
 ],
 "metadata": {
  "kernelspec": {
   "display_name": "Python 2",
   "language": "python",
   "name": "python2"
  },
  "language_info": {
   "codemirror_mode": {
    "name": "ipython",
    "version": 2
   },
   "file_extension": ".py",
   "mimetype": "text/x-python",
   "name": "python",
   "nbconvert_exporter": "python",
   "pygments_lexer": "ipython2",
   "version": "2.7.11"
  }
 },
 "nbformat": 4,
 "nbformat_minor": 0
}
